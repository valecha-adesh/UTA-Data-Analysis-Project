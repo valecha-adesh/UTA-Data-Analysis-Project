{
 "cells": [
  {
   "cell_type": "markdown",
   "metadata": {},
   "source": [
    "# Group : SM_1\n",
    "\n",
    "Group Members :\n",
    "Sushruti Acharya , Ashutosh Sharma, Adesh Valecha\n",
    "\n",
    "## Data : UTA Accident Data"
   ]
  },
  {
   "cell_type": "markdown",
   "metadata": {},
   "source": [
    "The data has been provided by UTA department.\n",
    "\n",
    "We are using the UTA accident data of last Six years (2013-2018).\n",
    "The are two different datasets we are using:\n",
    "\n",
    "1. Camera Flag Data Set\n",
    "2. Accident Data Set"
   ]
  },
  {
   "cell_type": "markdown",
   "metadata": {},
   "source": [
    "# Data mining task - Classification\n",
    "\n",
    "### Building classification model to classify the accident event was avoidable or not."
   ]
  },
  {
   "cell_type": "markdown",
   "metadata": {},
   "source": [
    "## Data Preparation & Exploration  "
   ]
  },
  {
   "cell_type": "code",
   "execution_count": 2,
   "metadata": {
    "collapsed": true
   },
   "outputs": [],
   "source": [
    "# Import RFormula, classifiers and MulticlassClassificationEvaluator packages \n",
    "# necessary for building and evaluating baseline classification and regression models\n",
    "\n",
    "from pyspark.ml.feature import RFormula\n",
    "from pyspark.ml.classification import LogisticRegression\\\n",
    ",LinearSVC, MultilayerPerceptronClassifier,NaiveBayes\\\n",
    ",GBTClassifier,RandomForestClassifier, DecisionTreeClassifier\n",
    "\n",
    "from pyspark.ml.feature import RFormula, StringIndexer, VectorAssembler, VectorIndexer, OneHotEncoder\n",
    "from pyspark.ml import Pipeline\n",
    "# Model building\n",
    "from pyspark.ml.regression import LinearRegression, GeneralizedLinearRegression, DecisionTreeRegressor, RandomForestRegressor, GBTRegressor\n",
    "# Model evaluation\n",
    "from pyspark.ml.evaluation import RegressionEvaluator\n",
    "from pyspark.mllib.evaluation import RegressionMetrics\n",
    "# Parameter tuning\n",
    "from pyspark.ml.tuning import ParamGridBuilder, CrossValidator, TrainValidationSplit\n",
    "# Feature engineering\n",
    "from pyspark.ml.feature import Normalizer, ChiSqSelector"
   ]
  },
  {
   "cell_type": "code",
   "execution_count": 3,
   "metadata": {
    "collapsed": true
   },
   "outputs": [],
   "source": [
    "# Import the functions in the pyspark.sql package\n",
    "from pyspark.sql.functions import col, desc, asc, round, corr, countDistinct, min, max, sum, count, avg, expr, to_date, year"
   ]
  },
  {
   "cell_type": "code",
   "execution_count": 4,
   "metadata": {
    "collapsed": true
   },
   "outputs": [],
   "source": [
    "from pyspark.context import SparkContext\n",
    "from pyspark.sql.session import SparkSession\n",
    "sc = SparkContext('local')\n",
    "spark = SparkSession(sc)"
   ]
  },
  {
   "cell_type": "code",
   "execution_count": 5,
   "metadata": {},
   "outputs": [
    {
     "name": "stdout",
     "output_type": "stream",
     "text": [
      "root\n",
      " |-- Incident Address City: string (nullable = true)\n",
      " |-- Incident Date: string (nullable = true)\n",
      " |-- Incident Description: string (nullable = true)\n",
      " |-- ARC Status: string (nullable = true)\n",
      " |-- ARC Decision: string (nullable = true)\n",
      " |-- Incident Weather Condition: string (nullable = true)\n",
      " |-- Incident Road Surface Condition: string (nullable = true)\n",
      " |-- Incident Light Condition: string (nullable = true)\n",
      " |-- UTA Vehicle Behavior: string (nullable = true)\n",
      " |-- Incident Location Type: string (nullable = true)\n",
      " |-- Incident Categorical Description: string (nullable = true)\n",
      " |-- UTA Vehicle Number: string (nullable = true)\n",
      " |-- Vehicle One Behavior: string (nullable = true)\n",
      " |-- Vehicle Two Behavior: string (nullable = true)\n",
      " |-- Vehicle Three Behavior: string (nullable = true)\n",
      " |-- year: integer (nullable = true)\n",
      " |-- month: integer (nullable = true)\n",
      " |-- yearmonth: integer (nullable = true)\n",
      " |-- addressid (OpAnalytics): integer (nullable = true)\n",
      " |-- Incident Time of Day (Seconds): integer (nullable = true)\n",
      " |-- StopId (Trapeze): integer (nullable = true)\n",
      " |-- tripid: integer (nullable = true)\n",
      " |-- lineid: integer (nullable = true)\n",
      " |-- linedirectionid: integer (nullable = true)\n",
      " |-- buid: integer (nullable = true)\n",
      " |-- divisionid: integer (nullable = true)\n",
      " |-- modeid: integer (nullable = true)\n",
      " |-- serviceid: integer (nullable = true)\n",
      " |-- FromTime: integer (nullable = true)\n",
      " |-- toTime: integer (nullable = true)\n",
      " |-- vehicleid: integer (nullable = true)\n",
      " |-- Operator Gender: string (nullable = true)\n",
      " |-- Operator Job Description: string (nullable = true)\n",
      " |-- Equipment Class: string (nullable = true)\n",
      " |-- Vehicle Length (ft): integer (nullable = true)\n",
      " |-- Vehicle Width: integer (nullable = true)\n",
      " |-- fleetCode: string (nullable = true)\n",
      " |-- Manufacturer: string (nullable = true)\n",
      " |-- Make & Model: string (nullable = true)\n",
      " |-- Model Year: integer (nullable = true)\n",
      " |-- Fuel Type: string (nullable = true)\n",
      " |-- Driver ID: integer (nullable = true)\n",
      "\n"
     ]
    }
   ],
   "source": [
    "#Reading UTA Accident Data\n",
    "\n",
    "data = spark.read.csv(\"E:/Summer_Sem/Big_Data/project/UTA_accidents.csv\", header = True, inferSchema=\"true\")\n",
    "data.printSchema()"
   ]
  },
  {
   "cell_type": "code",
   "execution_count": 6,
   "metadata": {
    "collapsed": true
   },
   "outputs": [],
   "source": [
    "data = data.drop('Incident Categorical Description','Incident Description','UTA Vehicle Number','addressid (OpAnalytics)')"
   ]
  },
  {
   "cell_type": "code",
   "execution_count": 7,
   "metadata": {
    "collapsed": true
   },
   "outputs": [],
   "source": [
    "data_df = data.where(col(\"ARC Status\")==\"ARCR\")"
   ]
  },
  {
   "cell_type": "code",
   "execution_count": 8,
   "metadata": {
    "collapsed": true
   },
   "outputs": [],
   "source": [
    "data_df = data_df.where(col(\"ARC Decision\")!=\"UNKNOWN\")"
   ]
  },
  {
   "cell_type": "code",
   "execution_count": 9,
   "metadata": {
    "collapsed": true
   },
   "outputs": [],
   "source": [
    "data_df = data_df.where(col(\"ARC Decision\")!=\"TIE\")"
   ]
  },
  {
   "cell_type": "code",
   "execution_count": 10,
   "metadata": {},
   "outputs": [
    {
     "name": "stdout",
     "output_type": "stream",
     "text": [
      "+------------+-----+\n",
      "|ARC Decision|count|\n",
      "+------------+-----+\n",
      "|        CLS1|  672|\n",
      "|        CLS0|   83|\n",
      "|        CLS4|    4|\n",
      "|          UN| 2241|\n",
      "|        CLS2|  136|\n",
      "|        CLS3|   22|\n",
      "+------------+-----+\n",
      "\n"
     ]
    }
   ],
   "source": [
    "data_df.groupby('ARC Decision').count().show()"
   ]
  },
  {
   "cell_type": "code",
   "execution_count": 11,
   "metadata": {},
   "outputs": [
    {
     "name": "stdout",
     "output_type": "stream",
     "text": [
      "+------------+----------+\n",
      "|ARC Decision|ACC_STATUS|\n",
      "+------------+----------+\n",
      "|        CLS1|         1|\n",
      "|          UN|         0|\n",
      "|        CLS1|         1|\n",
      "|          UN|         0|\n",
      "|          UN|         0|\n",
      "|        CLS1|         1|\n",
      "|        CLS1|         1|\n",
      "|        CLS1|         1|\n",
      "|        CLS2|         1|\n",
      "|          UN|         0|\n",
      "|          UN|         0|\n",
      "|          UN|         0|\n",
      "|          UN|         0|\n",
      "|          UN|         0|\n",
      "|        CLS1|         1|\n",
      "+------------+----------+\n",
      "only showing top 15 rows\n",
      "\n"
     ]
    }
   ],
   "source": [
    "from pyspark.sql.functions import when\n",
    "data_df2 = data_df.withColumn(\"ACC_STATUS\", when(col('ARC Decision')==\"UN\",0).otherwise(1))\n",
    "data_df2.select('ARC Decision','ACC_STATUS').show(15)"
   ]
  },
  {
   "cell_type": "code",
   "execution_count": 12,
   "metadata": {},
   "outputs": [
    {
     "name": "stdout",
     "output_type": "stream",
     "text": [
      "root\n",
      " |-- Incident Address City: string (nullable = true)\n",
      " |-- Incident Date: string (nullable = true)\n",
      " |-- ARC Status: string (nullable = true)\n",
      " |-- ARC Decision: string (nullable = true)\n",
      " |-- Incident Weather Condition: string (nullable = true)\n",
      " |-- Incident Road Surface Condition: string (nullable = true)\n",
      " |-- Incident Light Condition: string (nullable = true)\n",
      " |-- UTA Vehicle Behavior: string (nullable = true)\n",
      " |-- Incident Location Type: string (nullable = true)\n",
      " |-- Vehicle One Behavior: string (nullable = true)\n",
      " |-- Vehicle Two Behavior: string (nullable = true)\n",
      " |-- Vehicle Three Behavior: string (nullable = true)\n",
      " |-- year: integer (nullable = true)\n",
      " |-- month: integer (nullable = true)\n",
      " |-- yearmonth: integer (nullable = true)\n",
      " |-- Incident Time of Day (Seconds): integer (nullable = true)\n",
      " |-- StopId (Trapeze): integer (nullable = true)\n",
      " |-- tripid: integer (nullable = true)\n",
      " |-- lineid: integer (nullable = true)\n",
      " |-- linedirectionid: integer (nullable = true)\n",
      " |-- buid: integer (nullable = true)\n",
      " |-- divisionid: integer (nullable = true)\n",
      " |-- modeid: integer (nullable = true)\n",
      " |-- serviceid: integer (nullable = true)\n",
      " |-- FromTime: integer (nullable = true)\n",
      " |-- toTime: integer (nullable = true)\n",
      " |-- vehicleid: integer (nullable = true)\n",
      " |-- Operator Gender: string (nullable = true)\n",
      " |-- Operator Job Description: string (nullable = true)\n",
      " |-- Equipment Class: string (nullable = true)\n",
      " |-- Vehicle Length (ft): integer (nullable = true)\n",
      " |-- Vehicle Width: integer (nullable = true)\n",
      " |-- fleetCode: string (nullable = true)\n",
      " |-- Manufacturer: string (nullable = true)\n",
      " |-- Make & Model: string (nullable = true)\n",
      " |-- Model Year: integer (nullable = true)\n",
      " |-- Fuel Type: string (nullable = true)\n",
      " |-- Driver ID: integer (nullable = true)\n",
      " |-- ACC_STATUS: integer (nullable = false)\n",
      "\n"
     ]
    }
   ],
   "source": [
    "data_df2.printSchema()"
   ]
  },
  {
   "cell_type": "code",
   "execution_count": 13,
   "metadata": {},
   "outputs": [
    {
     "name": "stdout",
     "output_type": "stream",
     "text": [
      "+--------------------------+\n",
      "|count(DISTINCT ACC_STATUS)|\n",
      "+--------------------------+\n",
      "|                         2|\n",
      "+--------------------------+\n",
      "\n"
     ]
    }
   ],
   "source": [
    "data_df2.select(countDistinct(\"ACC_STATUS\")).show()"
   ]
  },
  {
   "cell_type": "code",
   "execution_count": 14,
   "metadata": {},
   "outputs": [
    {
     "name": "stdout",
     "output_type": "stream",
     "text": [
      "+----------+-----+\n",
      "|ACC_STATUS|count|\n",
      "+----------+-----+\n",
      "|         1|  917|\n",
      "|         0| 2241|\n",
      "+----------+-----+\n",
      "\n"
     ]
    }
   ],
   "source": [
    "data_df2.groupBy('ACC_STATUS').count().show()"
   ]
  },
  {
   "cell_type": "markdown",
   "metadata": {},
   "source": [
    "## Cross - tabulation\n",
    "\n",
    "We are checking the frequency distribution of set of variables with respect to accident status."
   ]
  },
  {
   "cell_type": "code",
   "execution_count": 77,
   "metadata": {},
   "outputs": [
    {
     "name": "stdout",
     "output_type": "stream",
     "text": [
      "+-------------------------------------+----+---+\n",
      "|Incident Weather Condition_ACC_STATUS|   0|  1|\n",
      "+-------------------------------------+----+---+\n",
      "|                                  N/A|   8|  5|\n",
      "|                        PARTLY CLOUDY|   8|  0|\n",
      "|                                 SNOW|  11|  2|\n",
      "|                           LIGHT RAIN|  71| 30|\n",
      "|                           HEAVY SNOW|  54| 13|\n",
      "|                            LIGHT FOG|   4|  4|\n",
      "|                               CLOUDY| 385|131|\n",
      "|                           HEAVY RAIN|  14|  6|\n",
      "|                           LIGHT SNOW|  64| 14|\n",
      "|                                 RAIN|   4|  5|\n",
      "|                            HEAVY FOG|   2|  0|\n",
      "|                                CLEAR|1595|700|\n",
      "|                                  FOG|   1|  0|\n",
      "|                        UNCATEGORIZED|   1|  1|\n",
      "|                              UNKNOWN|  19|  6|\n",
      "+-------------------------------------+----+---+\n",
      "\n",
      "+------------------------------------------+----+---+\n",
      "|Incident Road Surface Condition_ACC_STATUS|   0|  1|\n",
      "+------------------------------------------+----+---+\n",
      "|                                       WET| 195| 79|\n",
      "|                                       N/A|   8|  5|\n",
      "|                                       ICY|  91| 21|\n",
      "|                                     MUDDY|   2|  1|\n",
      "|                                     SNOWY|  74| 23|\n",
      "|                             UNCATEGORIZED|   4|  2|\n",
      "|                                   UNKNOWN|  17|  8|\n",
      "|                                       DRY|1850|778|\n",
      "+------------------------------------------+----+---+\n",
      "\n",
      "+-----------------------------------+----+---+\n",
      "|Incident Light Condition_ACC_STATUS|   0|  1|\n",
      "+-----------------------------------+----+---+\n",
      "|                           DARKNESS| 323|158|\n",
      "|                               DUSK| 109| 32|\n",
      "|                           DAYLIGHT|1691|672|\n",
      "|                               DAWN|  86| 43|\n",
      "|               DARKNESS ? STREET...|   1|  0|\n",
      "|                            UNKNOWN|  31| 12|\n",
      "+-----------------------------------+----+---+\n",
      "\n",
      "+-------------------------------+---+---+\n",
      "|UTA Vehicle Behavior_ACC_STATUS|  0|  1|\n",
      "+-------------------------------+---+---+\n",
      "|                       STOPPING|145| 95|\n",
      "|                        STOPPED|885| 54|\n",
      "|                 GOING STRAIGHT|696|169|\n",
      "|                        BACKING|  4| 32|\n",
      "|                       STARTING|118|115|\n",
      "|                 CHANGING LANES| 23| 20|\n",
      "|                 MOVING TO CURB|115|151|\n",
      "|                   TURNING LEFT| 89|109|\n",
      "|                  UNCATEGORIZED|  4|  1|\n",
      "|                  TURNING RIGHT|116|129|\n",
      "|                        UNKNOWN| 46| 42|\n",
      "+-------------------------------+---+---+\n",
      "\n",
      "+---------------------------------+----+---+\n",
      "|Incident Location Type_ACC_STATUS|   0|  1|\n",
      "+---------------------------------+----+---+\n",
      "|                      PARKING LOT|   1|  0|\n",
      "|                            OTHER|  37| 21|\n",
      "|                       YIELD SIGN|  13|  4|\n",
      "|                             YARD|   1|  2|\n",
      "|                   POLICE OFFICER|   3|  2|\n",
      "|                     CONSTRUCTION|   9|  2|\n",
      "|                          FREEWAY|   3|  0|\n",
      "|                        CROSSWALK|   2|  3|\n",
      "|                              EOL|   0|  1|\n",
      "|                         BUS STOP|  57| 12|\n",
      "|                        STOP SIGN|  87| 41|\n",
      "|                    UNCATEGORIZED|  10|  5|\n",
      "|                      RR CROSSING|  33|  3|\n",
      "|                       ROUNDABOUT|   3|  3|\n",
      "|                   TRAFFIC SIGNAL| 773|193|\n",
      "|                          UNKNOWN|1209|625|\n",
      "+---------------------------------+----+---+\n",
      "\n",
      "+--------------------+----+---+\n",
      "|Fuel Type_ACC_STATUS|   0|  1|\n",
      "+--------------------+----+---+\n",
      "|G  -Gasoline     ...|  25| 10|\n",
      "|D  -Diesel Fuel  ...|1622|634|\n",
      "|CN -Compressed Na...| 187| 63|\n",
      "|                null| 407|210|\n",
      "+--------------------+----+---+\n",
      "\n",
      "+-------------------------------+---+---+\n",
      "|Vehicle One Behavior_ACC_STATUS|  0|  1|\n",
      "+-------------------------------+---+---+\n",
      "|           Going Straight/Sm...|  0|  1|\n",
      "|                           null|  6|  5|\n",
      "|                 Moving to curb|  0|  1|\n",
      "|           Moving to Curb/Tu...|  1|  0|\n",
      "|                       Stopping|133| 95|\n",
      "|           Moving to Curb/St...|  0|  1|\n",
      "|                 Going straight|  1|  0|\n",
      "|           Changing Lanes/Mo...|  1|  0|\n",
      "|                       Starting|109|112|\n",
      "|           Starting/Moving t...|  2|  1|\n",
      "|               Moving from curb|  1|  0|\n",
      "|               Stopped/Stopping|  7|  0|\n",
      "|                            N/A| 27| 30|\n",
      "|                        Stopped|881| 54|\n",
      "|           Stopped/Turning R...|  1|  0|\n",
      "|                   Turning left|  0|  1|\n",
      "|            09 - Going Straight|  5|  0|\n",
      "|                        Backing|  4| 32|\n",
      "|                 Going Straight|695|169|\n",
      "|                        Staring|  1|  0|\n",
      "+-------------------------------+---+---+\n",
      "only showing top 20 rows\n",
      "\n",
      "+-------------------------------+---+---+\n",
      "|Vehicle Two Behavior_ACC_STATUS|  0|  1|\n",
      "+-------------------------------+---+---+\n",
      "|                           null|  9|  7|\n",
      "|                 Moving to curb|  1|  0|\n",
      "|                       Stopping| 80| 16|\n",
      "|                 Going straight|  3|  0|\n",
      "|           Changing Lanes/Mo...|  1|  0|\n",
      "|                       Starting| 77| 10|\n",
      "|               Stopped/Stopping|  0|  1|\n",
      "|                            N/A|620|494|\n",
      "|           Turning Right/Goi...|  3|  0|\n",
      "|                        Stopped|102|287|\n",
      "|           Stopped/Turning R...|  0|  1|\n",
      "|                 Going Straigth|  1|  0|\n",
      "|            09 - Going Straight|  3|  1|\n",
      "|                        Backing| 12|  0|\n",
      "|                  Going Staight|  1|  0|\n",
      "|                 Going Straight|725| 50|\n",
      "|           Starting/Changing...|  1|  0|\n",
      "|                      Starting/|  1|  0|\n",
      "|                   01 - Stopped|  2|  0|\n",
      "|           Stopping/Changing...|  4|  0|\n",
      "+-------------------------------+---+---+\n",
      "only showing top 20 rows\n",
      "\n"
     ]
    }
   ],
   "source": [
    "data_df2.stat.crosstab(\"Incident Weather Condition\",\"ACC_STATUS\").show()\n",
    "data_df2.stat.crosstab(\"Incident Road Surface Condition\",\"ACC_STATUS\").show()\n",
    "data_df2.stat.crosstab(\"Incident Light Condition\",\"ACC_STATUS\").show()\n",
    "data_df2.stat.crosstab(\"UTA Vehicle Behavior\",\"ACC_STATUS\").show()\n",
    "data_df2.stat.crosstab(\"Incident Location Type\",\"ACC_STATUS\").show()\n",
    "data_df2.stat.crosstab(\"Fuel Type\",\"ACC_STATUS\").show()\n",
    "data_df2.stat.crosstab(\"Vehicle One Behavior\",\"ACC_STATUS\").show()\n",
    "data_df2.stat.crosstab(\"Vehicle Two Behavior\",\"ACC_STATUS\").show()"
   ]
  },
  {
   "cell_type": "markdown",
   "metadata": {},
   "source": [
    "## Schema of the prepared data\n",
    "\n",
    "1. We have considered only those records which are reviewed by the accident review committee, where ARC Status = \"ARCR\".\n",
    "2. Removed columns such as Incident Categorical Description','Incident Description','UTA Vehicle Number','addressid (OpAnalytics) as they are not significant features for data mining tasks. \n",
    "3. Additionally, considered only those records with ARC Decision as avoidable and unaviodable. \n",
    "4. Removed records with NULL values.\n",
    "5. Renamed the columns as RFormula accept column names without spaces.\n"
   ]
  },
  {
   "cell_type": "code",
   "execution_count": 15,
   "metadata": {
    "collapsed": true
   },
   "outputs": [],
   "source": [
    "#subset\n",
    "sub_df = data_df2.select(\"Incident Weather Condition\",\"Incident Road Surface Condition\",\"Incident Light Condition\",\"UTA Vehicle Behavior\",\"Incident Location Type\",\"Fuel Type\",\"Vehicle One Behavior\",\"Vehicle Two Behavior\",\"ACC_STATUS\")"
   ]
  },
  {
   "cell_type": "code",
   "execution_count": 16,
   "metadata": {},
   "outputs": [
    {
     "name": "stdout",
     "output_type": "stream",
     "text": [
      "root\n",
      " |-- Incident Weather Condition: string (nullable = true)\n",
      " |-- Incident Road Surface Condition: string (nullable = true)\n",
      " |-- Incident Light Condition: string (nullable = true)\n",
      " |-- UTA Vehicle Behavior: string (nullable = true)\n",
      " |-- Incident Location Type: string (nullable = true)\n",
      " |-- Fuel Type: string (nullable = true)\n",
      " |-- Vehicle One Behavior: string (nullable = true)\n",
      " |-- Vehicle Two Behavior: string (nullable = true)\n",
      " |-- ACC_STATUS: integer (nullable = false)\n",
      "\n"
     ]
    }
   ],
   "source": [
    "sub_df.printSchema()"
   ]
  },
  {
   "cell_type": "code",
   "execution_count": 17,
   "metadata": {},
   "outputs": [
    {
     "name": "stdout",
     "output_type": "stream",
     "text": [
      "root\n",
      " |-- Incident_Weather_Condition: string (nullable = true)\n",
      " |-- Incident_Road_Surface_Condition: string (nullable = true)\n",
      " |-- Incident_Light_Condition: string (nullable = true)\n",
      " |-- UTA_Vehicle_Behavior: string (nullable = true)\n",
      " |-- Incident_Location_Type: string (nullable = true)\n",
      " |-- Fuel_Type: string (nullable = true)\n",
      " |-- Vehicle_One_Behavior: string (nullable = true)\n",
      " |-- Vehicle_Two_Behavior: string (nullable = true)\n",
      " |-- ACC_STATUS: integer (nullable = false)\n",
      "\n"
     ]
    }
   ],
   "source": [
    "sub_df = sub_df.withColumnRenamed(\"Incident Weather Condition\",\"Incident_Weather_Condition\")\n",
    "sub_df = sub_df.withColumnRenamed(\"Incident Road Surface Condition\",\"Incident_Road_Surface_Condition\")\n",
    "sub_df = sub_df.withColumnRenamed(\"UTA Vehicle Behavior\",\"UTA_Vehicle_Behavior\")\n",
    "sub_df = sub_df.withColumnRenamed(\"Incident Location Type\",\"Incident_Location_Type\")\n",
    "sub_df = sub_df.withColumnRenamed(\"Incident Light Condition\",\"Incident_Light_Condition\")\n",
    "sub_df = sub_df.withColumnRenamed(\"Incident Time of Day (Seconds)\",\"Incident_Time\")\n",
    "sub_df = sub_df.withColumnRenamed(\"Fuel Type\",\"Fuel_Type\")\n",
    "sub_df = sub_df.withColumnRenamed(\"Vehicle One Behavior\",\"Vehicle_One_Behavior\")\n",
    "sub_df = sub_df.withColumnRenamed(\"Vehicle Two Behavior\",\"Vehicle_Two_Behavior\")\n",
    "sub_df.printSchema()"
   ]
  },
  {
   "cell_type": "code",
   "execution_count": 18,
   "metadata": {},
   "outputs": [
    {
     "name": "stdout",
     "output_type": "stream",
     "text": [
      "+--------------------------+-----+\n",
      "|Incident_Weather_Condition|count|\n",
      "+--------------------------+-----+\n",
      "|             UNCATEGORIZED|    2|\n",
      "|                 LIGHT FOG|    8|\n",
      "|                 HEAVY FOG|    2|\n",
      "|                    CLOUDY|  516|\n",
      "|                LIGHT RAIN|  101|\n",
      "|                HEAVY RAIN|   20|\n",
      "|                   UNKNOWN|   25|\n",
      "|                     CLEAR| 2295|\n",
      "|             PARTLY CLOUDY|    8|\n",
      "|                      SNOW|   13|\n",
      "|                       N/A|   13|\n",
      "|                LIGHT SNOW|   78|\n",
      "|                      RAIN|    9|\n",
      "|                       FOG|    1|\n",
      "|                HEAVY SNOW|   67|\n",
      "+--------------------------+-----+\n",
      "\n",
      "+-------------------------------+-----+\n",
      "|Incident_Road_Surface_Condition|count|\n",
      "+-------------------------------+-----+\n",
      "|                  UNCATEGORIZED|    6|\n",
      "|                            DRY| 2628|\n",
      "|                            WET|  274|\n",
      "|                        UNKNOWN|   25|\n",
      "|                          MUDDY|    3|\n",
      "|                            ICY|  112|\n",
      "|                            N/A|   13|\n",
      "|                          SNOWY|   97|\n",
      "+-------------------------------+-----+\n",
      "\n",
      "+------------------------+-----+\n",
      "|Incident_Light_Condition|count|\n",
      "+------------------------+-----+\n",
      "|                    DAWN|  129|\n",
      "|                DAYLIGHT| 2363|\n",
      "|                    DUSK|  141|\n",
      "|                 UNKNOWN|   43|\n",
      "|                DARKNESS|  481|\n",
      "|    DARKNESS ? STREET...|    1|\n",
      "+------------------------+-----+\n",
      "\n",
      "+----------+-----+\n",
      "|ACC_STATUS|count|\n",
      "+----------+-----+\n",
      "|         1|  917|\n",
      "|         0| 2241|\n",
      "+----------+-----+\n",
      "\n"
     ]
    }
   ],
   "source": [
    "sub_df.groupBy('Incident_Weather_Condition').count().show()\n",
    "sub_df.groupBy('Incident_Road_Surface_Condition').count().show()\n",
    "sub_df.groupBy('Incident_Light_Condition').count().show()\n",
    "sub_df.groupBy('ACC_STATUS').count().show()"
   ]
  },
  {
   "cell_type": "code",
   "execution_count": 19,
   "metadata": {},
   "outputs": [
    {
     "name": "stdout",
     "output_type": "stream",
     "text": [
      "+--------------------------+-----+\n",
      "|Incident_Weather_Condition|count|\n",
      "+--------------------------+-----+\n",
      "|             UNCATEGORIZED|    1|\n",
      "|                 LIGHT FOG|    7|\n",
      "|                 HEAVY FOG|    2|\n",
      "|                    CLOUDY|  414|\n",
      "|                LIGHT RAIN|   73|\n",
      "|                HEAVY RAIN|   17|\n",
      "|                   UNKNOWN|   13|\n",
      "|                     CLEAR| 1843|\n",
      "|             PARTLY CLOUDY|    8|\n",
      "|                      SNOW|   11|\n",
      "|                       N/A|    8|\n",
      "|                LIGHT SNOW|   69|\n",
      "|                      RAIN|    9|\n",
      "|                HEAVY SNOW|   56|\n",
      "+--------------------------+-----+\n",
      "\n"
     ]
    }
   ],
   "source": [
    "sub_df = sub_df.na.drop()\n",
    "sub_df.groupBy('Incident_Weather_Condition').count().show()"
   ]
  },
  {
   "cell_type": "code",
   "execution_count": 20,
   "metadata": {},
   "outputs": [
    {
     "name": "stdout",
     "output_type": "stream",
     "text": [
      "+----------+-----+\n",
      "|ACC_STATUS|count|\n",
      "+----------+-----+\n",
      "|         1|  703|\n",
      "|         0| 1828|\n",
      "+----------+-----+\n",
      "\n"
     ]
    }
   ],
   "source": [
    "sub_df.groupBy('ACC_STATUS').count().show()"
   ]
  },
  {
   "cell_type": "markdown",
   "metadata": {},
   "source": [
    "## Applied RFormula for data preparation"
   ]
  },
  {
   "cell_type": "code",
   "execution_count": 50,
   "metadata": {},
   "outputs": [
    {
     "name": "stdout",
     "output_type": "stream",
     "text": [
      "root\n",
      " |-- Incident_Weather_Condition: string (nullable = true)\n",
      " |-- Incident_Road_Surface_Condition: string (nullable = true)\n",
      " |-- Incident_Light_Condition: string (nullable = true)\n",
      " |-- UTA_Vehicle_Behavior: string (nullable = true)\n",
      " |-- Incident_Location_Type: string (nullable = true)\n",
      " |-- Fuel_Type: string (nullable = true)\n",
      " |-- Vehicle_One_Behavior: string (nullable = true)\n",
      " |-- Vehicle_Two_Behavior: string (nullable = true)\n",
      " |-- ACC_STATUS: integer (nullable = false)\n",
      " |-- features: vector (nullable = true)\n",
      " |-- label: double (nullable = false)\n",
      "\n",
      "+--------------------------+-------------------------------+------------------------+--------------------+----------------------+--------------------+--------------------+--------------------+----------+--------------------+-----+\n",
      "|Incident_Weather_Condition|Incident_Road_Surface_Condition|Incident_Light_Condition|UTA_Vehicle_Behavior|Incident_Location_Type|           Fuel_Type|Vehicle_One_Behavior|Vehicle_Two_Behavior|ACC_STATUS|            features|label|\n",
      "+--------------------------+-------------------------------+------------------------+--------------------+----------------------+--------------------+--------------------+--------------------+----------+--------------------+-----+\n",
      "|                    CLOUDY|                            DRY|                DARKNESS|      GOING STRAIGHT|               UNKNOWN|D  -Diesel Fuel  ...|      Going Straight|                 N/A|         1|(135,[1,13,21,26,...|  1.0|\n",
      "|                   UNKNOWN|                            ICY|                DAYLIGHT|             STOPPED|               UNKNOWN|D  -Diesel Fuel  ...|             Stopped|      Going Straight|         0|(135,[6,15,20,25,...|  0.0|\n",
      "|                HEAVY SNOW|                          SNOWY|                DARKNESS|      GOING STRAIGHT|               UNKNOWN|D  -Diesel Fuel  ...|      Going Straight|                 N/A|         1|(135,[4,16,21,26,...|  1.0|\n",
      "|                    CLOUDY|                  UNCATEGORIZED|                DAYLIGHT|      MOVING TO CURB|               UNKNOWN|D  -Diesel Fuel  ...|      Moving to Curb|                 N/A|         0|(135,[1,19,20,27,...|  0.0|\n",
      "|                     CLEAR|                            DRY|                DAYLIGHT|             STOPPED|               UNKNOWN|D  -Diesel Fuel  ...|             Stopped|      Going Straight|         0|(135,[0,13,20,25,...|  0.0|\n",
      "+--------------------------+-------------------------------+------------------------+--------------------+----------------------+--------------------+--------------------+--------------------+----------+--------------------+-----+\n",
      "only showing top 5 rows\n",
      "\n"
     ]
    }
   ],
   "source": [
    "formula1 = RFormula(formula=\"ACC_STATUS ~ .\", featuresCol=\"features\", labelCol=\"label\")\n",
    "\n",
    "fitted_rf1 = formula1.fit(sub_df)\n",
    "\n",
    "CD1_prepared = fitted_rf1.transform(sub_df)\n",
    "CD1_prepared.printSchema()\n",
    "CD1_prepared.show(5)"
   ]
  },
  {
   "cell_type": "markdown",
   "metadata": {},
   "source": [
    "## Used ChiSqSelector to select the top 7 features for classification task\n"
   ]
  },
  {
   "cell_type": "code",
   "execution_count": 53,
   "metadata": {},
   "outputs": [
    {
     "name": "stdout",
     "output_type": "stream",
     "text": [
      "+--------------------------+-------------------------------+------------------------+--------------------+----------------------+--------------------+--------------------+--------------------+----------+--------------------+-----+--------------------+\n",
      "|Incident_Weather_Condition|Incident_Road_Surface_Condition|Incident_Light_Condition|UTA_Vehicle_Behavior|Incident_Location_Type|           Fuel_Type|Vehicle_One_Behavior|Vehicle_Two_Behavior|ACC_STATUS|            features|label|    selectedFeatures|\n",
      "+--------------------------+-------------------------------+------------------------+--------------------+----------------------+--------------------+--------------------+--------------------+----------+--------------------+-----+--------------------+\n",
      "|                    CLOUDY|                            DRY|                DARKNESS|      GOING STRAIGHT|               UNKNOWN|D  -Diesel Fuel  ...|      Going Straight|                 N/A|         1|(135,[1,13,21,26,...|  1.0|       (7,[5],[1.0])|\n",
      "|                   UNKNOWN|                            ICY|                DAYLIGHT|             STOPPED|               UNKNOWN|D  -Diesel Fuel  ...|             Stopped|      Going Straight|         0|(135,[6,15,20,25,...|  0.0|(7,[0,2,6],[1.0,1...|\n",
      "|                HEAVY SNOW|                          SNOWY|                DARKNESS|      GOING STRAIGHT|               UNKNOWN|D  -Diesel Fuel  ...|      Going Straight|                 N/A|         1|(135,[4,16,21,26,...|  1.0|       (7,[5],[1.0])|\n",
      "|                    CLOUDY|                  UNCATEGORIZED|                DAYLIGHT|      MOVING TO CURB|               UNKNOWN|D  -Diesel Fuel  ...|      Moving to Curb|                 N/A|         0|(135,[1,19,20,27,...|  0.0|(7,[1,3,5],[1.0,1...|\n",
      "|                     CLEAR|                            DRY|                DAYLIGHT|             STOPPED|               UNKNOWN|D  -Diesel Fuel  ...|             Stopped|      Going Straight|         0|(135,[0,13,20,25,...|  0.0|(7,[0,2,6],[1.0,1...|\n",
      "+--------------------------+-------------------------------+------------------------+--------------------+----------------------+--------------------+--------------------+--------------------+----------+--------------------+-----+--------------------+\n",
      "only showing top 5 rows\n",
      "\n"
     ]
    }
   ],
   "source": [
    "from pyspark.ml.feature import ChiSqSelector\n",
    "\n",
    "chiSqrModel = ChiSqSelector(numTopFeatures=7, featuresCol= \"features\", outputCol=\"selectedFeatures\", labelCol=\"label\")\n",
    "selectedData = chiSqrModel.fit(CD1_prepared).transform(CD1_prepared)\n",
    "\n",
    "selectedData.show(5)\n",
    "\n",
    "chisq_train, chisq_test = selectedData.select('label','selectedFeatures').randomSplit([0.7,0.3], seed = 100)"
   ]
  },
  {
   "cell_type": "markdown",
   "metadata": {},
   "source": [
    "## Normalization of the data"
   ]
  },
  {
   "cell_type": "code",
   "execution_count": 54,
   "metadata": {},
   "outputs": [
    {
     "name": "stdout",
     "output_type": "stream",
     "text": [
      "root\n",
      " |-- Incident_Weather_Condition: string (nullable = true)\n",
      " |-- Incident_Road_Surface_Condition: string (nullable = true)\n",
      " |-- Incident_Light_Condition: string (nullable = true)\n",
      " |-- UTA_Vehicle_Behavior: string (nullable = true)\n",
      " |-- Incident_Location_Type: string (nullable = true)\n",
      " |-- Fuel_Type: string (nullable = true)\n",
      " |-- Vehicle_One_Behavior: string (nullable = true)\n",
      " |-- Vehicle_Two_Behavior: string (nullable = true)\n",
      " |-- ACC_STATUS: integer (nullable = false)\n",
      " |-- features: vector (nullable = true)\n",
      " |-- label: double (nullable = false)\n",
      " |-- normFeatures: vector (nullable = true)\n",
      "\n"
     ]
    }
   ],
   "source": [
    "# Normalize each Vector using L1 norm.\n",
    "from pyspark.ml.feature import Normalizer\n",
    "\n",
    "normalizer = Normalizer(inputCol=\"features\", outputCol=\"normFeatures\", p=1.0)\n",
    "normData = normalizer.transform(CD1_prepared)\n",
    "normData.printSchema()\n",
    "norm_train, norm_test = normData.randomSplit([0.7, 0.3], seed=2018)"
   ]
  },
  {
   "cell_type": "markdown",
   "metadata": {},
   "source": [
    "## Model building and Evaluation\n"
   ]
  },
  {
   "cell_type": "code",
   "execution_count": 55,
   "metadata": {
    "collapsed": true
   },
   "outputs": [],
   "source": [
    "from pyspark.mllib.evaluation import MulticlassMetrics\n",
    "import numpy as np\n",
    "\n",
    "def classifier_evaluator (predictions):\n",
    "    predictionAndLabels =predictions.select(\"prediction\", \"label\").rdd\n",
    "    metrics = MulticlassMetrics(predictionAndLabels)\n",
    "    print(\"Precision(class1):\", np.round(metrics.precision(0.0),3))\n",
    "    print(\"Recall(class1):\", np.round(metrics.recall(0.0),3))\n",
    "    print(\"F-Score(class1):\", np.round(metrics.fMeasure(0.0, beta=1.0),3))\n",
    "    print(\"Precision(class2):\", np.round(metrics.precision(1.0),3))\n",
    "    print(\"Recall(class2):\", np.round(metrics.recall(1.0),3))\n",
    "    print(\"F-Score(class2):\", np.round(metrics.fMeasure(1.0, beta=1.0),3))\n",
    "    print(\"Accuracy:\", np.round(metrics.accuracy,3))   \n",
    "    "
   ]
  },
  {
   "cell_type": "markdown",
   "metadata": {},
   "source": [
    "## 1. Decision Tree Classifier"
   ]
  },
  {
   "cell_type": "code",
   "execution_count": 56,
   "metadata": {},
   "outputs": [
    {
     "name": "stdout",
     "output_type": "stream",
     "text": [
      "Precision(class1): 0.863\n",
      "Recall(class1): 0.858\n",
      "F-Score(class1): 0.86\n",
      "Precision(class2): 0.639\n",
      "Recall(class2): 0.649\n",
      "F-Score(class2): 0.644\n",
      "Accuracy: 0.799\n"
     ]
    }
   ],
   "source": [
    "#Decision Tree Classifier using normalized data\n",
    "\n",
    "dt_norm = DecisionTreeClassifier(labelCol='label',featuresCol='normFeatures')\n",
    "CD1_fittedDT = dt_norm.fit(norm_train)\n",
    "\n",
    "CD1_dt_test_results = CD1_fittedDT.transform(norm_test)\n",
    "classifier_evaluator(CD1_dt_test_results)\n",
    "\n"
   ]
  },
  {
   "cell_type": "code",
   "execution_count": 57,
   "metadata": {},
   "outputs": [
    {
     "name": "stdout",
     "output_type": "stream",
     "text": [
      "Precision(class1): 0.781\n",
      "Recall(class1): 0.917\n",
      "F-Score(class1): 0.843\n",
      "Precision(class2): 0.57\n",
      "Recall(class2): 0.299\n",
      "F-Score(class2): 0.392\n",
      "Accuracy: 0.751\n"
     ]
    }
   ],
   "source": [
    "#Decision Tree Classifier - selecting top 5 features using Chi-square\n",
    "\n",
    "dt_chisq = DecisionTreeClassifier(labelCol='label',featuresCol='selectedFeatures')\n",
    "CD1_fittedDT = dt_chisq.fit(chisq_train)\n",
    "\n",
    "CD1_dt_test_results = CD1_fittedDT.transform(chisq_test)\n",
    "classifier_evaluator(CD1_dt_test_results)"
   ]
  },
  {
   "cell_type": "markdown",
   "metadata": {},
   "source": [
    "We are evaluating decision tree classifier model on Normalized data and using top7 features provided by Chisquare method.\n",
    "We observed that we are getting better accuracy results on using normalized data.\n",
    "\n",
    "Hence, we are using normalized data for building different classification models."
   ]
  },
  {
   "cell_type": "markdown",
   "metadata": {},
   "source": [
    "## 2. Random Forest Classifier"
   ]
  },
  {
   "cell_type": "code",
   "execution_count": 59,
   "metadata": {},
   "outputs": [
    {
     "name": "stdout",
     "output_type": "stream",
     "text": [
      "Precision(class1): 0.756\n",
      "Recall(class1): 0.969\n",
      "F-Score(class1): 0.849\n",
      "Precision(class2): 0.709\n",
      "Recall(class2): 0.193\n",
      "F-Score(class2): 0.304\n",
      "Accuracy: 0.752\n"
     ]
    }
   ],
   "source": [
    "#Random Forest Classifier using normalized data\n",
    "\n",
    "rfc_norm = RandomForestClassifier(labelCol='label',featuresCol='normFeatures')\n",
    "CD1_fitted_rfc = rfc_norm.fit(norm_train)\n",
    "\n",
    "CD1_rfc_test_results = CD1_fitted_rfc.transform(norm_test)\n",
    "classifier_evaluator(CD1_rfc_test_results)"
   ]
  },
  {
   "cell_type": "markdown",
   "metadata": {},
   "source": [
    "## 3. Gradient Boost Tree Classifier"
   ]
  },
  {
   "cell_type": "code",
   "execution_count": 60,
   "metadata": {},
   "outputs": [
    {
     "name": "stdout",
     "output_type": "stream",
     "text": [
      "Precision(class1): 0.851\n",
      "Recall(class1): 0.864\n",
      "F-Score(class1): 0.857\n",
      "Precision(class2): 0.634\n",
      "Recall(class2): 0.609\n",
      "F-Score(class2): 0.621\n",
      "Accuracy: 0.793\n"
     ]
    }
   ],
   "source": [
    "#Gradient Boost Tree Classifier using normalized data\n",
    "\n",
    "gbt_norm = GBTClassifier(labelCol='label',featuresCol='normFeatures')\n",
    "CD1_fittedGBT = gbt_norm.fit(norm_train)\n",
    "\n",
    "CD1_gbt_test_results = CD1_fittedGBT.transform(norm_test)\n",
    "classifier_evaluator(CD1_gbt_test_results)"
   ]
  },
  {
   "cell_type": "markdown",
   "metadata": {},
   "source": [
    "## 4. SVN Classifier"
   ]
  },
  {
   "cell_type": "code",
   "execution_count": 61,
   "metadata": {},
   "outputs": [
    {
     "name": "stdout",
     "output_type": "stream",
     "text": [
      "Precision(class1): 0.848\n",
      "Recall(class1): 0.879\n",
      "F-Score(class1): 0.863\n",
      "Precision(class2): 0.656\n",
      "Recall(class2): 0.594\n",
      "F-Score(class2): 0.623\n",
      "Accuracy: 0.799\n"
     ]
    }
   ],
   "source": [
    "#SVN Classifier using normalized data\n",
    "\n",
    "svm_norm = LinearSVC(labelCol='label',featuresCol='normFeatures')\n",
    "CD1_fittedSVM = svm_norm.fit(norm_train)\n",
    "\n",
    "CD1_svm_test_results = CD1_fittedSVM.transform(norm_test)\n",
    "classifier_evaluator(CD1_svm_test_results)"
   ]
  },
  {
   "cell_type": "markdown",
   "metadata": {},
   "source": [
    "On comparing the evaluation metric results we found that Decision Tree Classifier and SVN are performing better than the other classification models."
   ]
  },
  {
   "cell_type": "markdown",
   "metadata": {},
   "source": [
    "# Data mining task - Regression\n",
    "\n",
    "## Building Regression model to predict the score of the driver based upon different variables from the data."
   ]
  },
  {
   "cell_type": "code",
   "execution_count": 128,
   "metadata": {
    "collapsed": true
   },
   "outputs": [],
   "source": [
    "# Load orders in a csv file into a Spark DataFrame. \n",
    "# Open this csv file via the file directory in your Jupyter Notebook before running this cell.\n",
    "df = spark.read.csv(\"Camera_flag.csv\", header = True, inferSchema=\"true\")"
   ]
  },
  {
   "cell_type": "code",
   "execution_count": 129,
   "metadata": {
    "collapsed": true
   },
   "outputs": [],
   "source": [
    "# Load orders in a csv file into a Spark DataFrame. \n",
    "# Open this csv file via the file directory in your Jupyter Notebook before running this cell.\n",
    "df2 = spark.read.csv(\"Accident_Data.csv\", header = True, inferSchema=\"true\")"
   ]
  },
  {
   "cell_type": "markdown",
   "metadata": {},
   "source": [
    "## Joining Accident and Camera Flag data sets"
   ]
  },
  {
   "cell_type": "code",
   "execution_count": 130,
   "metadata": {},
   "outputs": [
    {
     "name": "stdout",
     "output_type": "stream",
     "text": [
      "root\n",
      " |-- Coaching: string (nullable = true)\n",
      " |-- Flag: string (nullable = true)\n",
      " |-- Event ID: string (nullable = true)\n",
      " |-- Recorded Date: string (nullable = true)\n",
      " |-- Severity: string (nullable = true)\n",
      " |-- Score: integer (nullable = true)\n",
      " |-- Observations: string (nullable = true)\n",
      " |-- Vehicle: string (nullable = true)\n",
      " |-- Incident Address City: string (nullable = true)\n",
      " |-- Incident Date: string (nullable = true)\n",
      " |-- Incident Description: string (nullable = true)\n",
      " |-- ARC Status: string (nullable = true)\n",
      " |-- ARC Decision: string (nullable = true)\n",
      " |-- Incident Weather Condition: string (nullable = true)\n",
      " |-- Incident Road Surface Condition: string (nullable = true)\n",
      " |-- Incident Light Condition: string (nullable = true)\n",
      " |-- UTA Vehicle Behavior: string (nullable = true)\n",
      " |-- Incident Location Type: string (nullable = true)\n",
      " |-- Incident Categorical Description: string (nullable = true)\n",
      " |-- UTA Vehicle Number: string (nullable = true)\n",
      " |-- Vehicle One Behavior: string (nullable = true)\n",
      " |-- Vehicle Two Behavior: string (nullable = true)\n",
      " |-- Vehicle Three Behavior: string (nullable = true)\n",
      " |-- year: integer (nullable = true)\n",
      " |-- month: integer (nullable = true)\n",
      " |-- yearmonth: integer (nullable = true)\n",
      " |-- addressid (OpAnalytics): integer (nullable = true)\n",
      " |-- Incident Time of Day (Seconds): integer (nullable = true)\n",
      " |-- StopId (Trapeze): integer (nullable = true)\n",
      " |-- tripid: integer (nullable = true)\n",
      " |-- lineid: integer (nullable = true)\n",
      " |-- linedirectionid: integer (nullable = true)\n",
      " |-- buid: integer (nullable = true)\n",
      " |-- divisionid: integer (nullable = true)\n",
      " |-- modeid: integer (nullable = true)\n",
      " |-- serviceid: integer (nullable = true)\n",
      " |-- FromTime: integer (nullable = true)\n",
      " |-- toTime: integer (nullable = true)\n",
      " |-- vehicleid: integer (nullable = true)\n",
      " |-- Operator Gender: string (nullable = true)\n",
      " |-- Operator Job Description: string (nullable = true)\n",
      " |-- Equipment Class: string (nullable = true)\n",
      " |-- Vehicle Length (ft): integer (nullable = true)\n",
      " |-- Vehicle Width: integer (nullable = true)\n",
      " |-- fleetCode: string (nullable = true)\n",
      " |-- Manufacturer: string (nullable = true)\n",
      " |-- Make & Model: string (nullable = true)\n",
      " |-- Model Year: integer (nullable = true)\n",
      " |-- Fuel Type: string (nullable = true)\n",
      "\n",
      "+------------+-----------+----------+-------------+----------+-----+--------------------+-------+---------------------+-------------+--------------------+----------+------------+--------------------------+-------------------------------+------------------------+--------------------+----------------------+--------------------------------+------------------+--------------------+--------------------+----------------------+----+-----+---------+-----------------------+------------------------------+----------------+-------+------+---------------+----+----------+------+---------+--------+------+---------+---------------+------------------------+--------------------+-------------------+-------------+--------------------+--------------------+-------------+----------+--------------------+\n",
      "|    Coaching|       Flag|  Event ID|Recorded Date|  Severity|Score|        Observations|Vehicle|Incident Address City|Incident Date|Incident Description|ARC Status|ARC Decision|Incident Weather Condition|Incident Road Surface Condition|Incident Light Condition|UTA Vehicle Behavior|Incident Location Type|Incident Categorical Description|UTA Vehicle Number|Vehicle One Behavior|Vehicle Two Behavior|Vehicle Three Behavior|year|month|yearmonth|addressid (OpAnalytics)|Incident Time of Day (Seconds)|StopId (Trapeze)| tripid|lineid|linedirectionid|buid|divisionid|modeid|serviceid|FromTime|toTime|vehicleid|Operator Gender|Operator Job Description|     Equipment Class|Vehicle Length (ft)|Vehicle Width|           fleetCode|        Manufacturer| Make & Model|Model Year|           Fuel Type|\n",
      "+------------+-----------+----------+-------------+----------+-----+--------------------+-------+---------------------+-------------+--------------------+----------+------------+--------------------------+-------------------------------+------------------------+--------------------+----------------------+--------------------------------+------------------+--------------------+--------------------+----------------------+----+-----+---------+-----------------------+------------------------------+----------------+-------+------+---------------+----+----------+------+---------+--------+------+---------+---------------+------------------------+--------------------+-------------------+-------------+--------------------+--------------------+-------------+----------+--------------------+\n",
      "|     Coached|Not Flagged|9096-1480Z|    19-Apr-18|Category 2|  195|Incomplete Stop a...|  11002|                 null|         null|                null|      null|        null|                      null|                           null|                    null|                null|                  null|                            null|              null|                null|                null|                  null|null| null|     null|                   null|                          null|            null|   null|  null|           null|null|      null|  null|     null|    null|  null|     null|           null|                    null|                null|               null|         null|                null|                null|         null|      null|                null|\n",
      "|Not In Queue|Not Flagged|9096-147ZQ|    19-Apr-18|Category 1|   49|Unsafe Following ...|  10028|                  SLC|    28-Aug-13|13006- UTAV HIT P...|      ARCR|        CLS1|                     CLEAR|                            DRY|                DAYLIGHT|       TURNING RIGHT|        TRAFFIC SIGNAL|                         UNKNOWN|             13006|       Turning Right|             Stopped|        Changing Lanes|2013|    8|   201308|                  26050|                         61800|           13266| 989215|  3974|          10851|   1|         1|     1|        4|   59940| 64440|   113006|              M|                    null|BA -Buses class A...|                 40|          102|236-13000 Gillig CNG|GIL-Gillig       ...|G27-G27D102N4|      2013|CN -Compressed Na...|\n",
      "|Not In Queue|Not Flagged|9096-147ZQ|    19-Apr-18|Category 1|   49|Unsafe Following ...|  10028|               MURRAY|    11-Feb-14|07051- UTAV CAUGH...|      ARCR|        CLS1|                     CLEAR|                            DRY|                DAYLIGHT|            STOPPING|               UNKNOWN|                         UNKNOWN|              7051|            Stopping|                 N/A|                   N/A|2014|    2|   201402|                   1596|                         48240|           14516| 956498|  3964|          11023|   1|         1|     9|        4|   47220| 50640|   107026|              M|                    null|BA -Buses class A...|                 40|          102|210-07000 Gillig ...|GIL-Gillig       ...|G21-G21D102N4|      2007|D  -Diesel Fuel  ...|\n",
      "|Not In Queue|Not Flagged|9096-147ZQ|    19-Apr-18|Category 1|   49|Unsafe Following ...|  10028|                  SLC|    16-Dec-14| 13008- FARE EVASION|   NON-ARC|          RO|                     CLEAR|                            DRY|                DAYLIGHT|             STOPPED|              BUS STOP|                         UNKNOWN|             13008|             Stopped|                 N/A|                   N/A|2014|   12|   201412|                   3499|                         53700|           21573|1078481|  4106|          10787|   1|         1|     1|        4|   52740| 54840|   113008|              M|                    null|BA -Buses class A...|                 40|          102|236-13000 Gillig CNG|GIL-Gillig       ...|G27-G27D102N4|      2013|CN -Compressed Na...|\n",
      "|Not In Queue|Not Flagged|9096-147ZQ|    19-Apr-18|Category 1|   49|Unsafe Following ...|  10028|             SNOWBIRD|    25-Dec-14|07051- UTAV SLID ...|      ARCR|          UN|                HEAVY SNOW|                            ICY|                    DUSK|            STOPPING|               UNKNOWN|                         UNKNOWN|              7051|            Stopping|             Stopped|                   N/A|2014|   12|   201412|                  15453|                         60000|           15828|   null|  null|           null|   1|         1|     9|     null|    null|  null|     null|              M|                    null|                null|               null|         null|                null|                null|         null|      null|                null|\n",
      "+------------+-----------+----------+-------------+----------+-----+--------------------+-------+---------------------+-------------+--------------------+----------+------------+--------------------------+-------------------------------+------------------------+--------------------+----------------------+--------------------------------+------------------+--------------------+--------------------+----------------------+----+-----+---------+-----------------------+------------------------------+----------------+-------+------+---------------+----+----------+------+---------+--------+------+---------+---------------+------------------------+--------------------+-------------------+-------------+--------------------+--------------------+-------------+----------+--------------------+\n",
      "only showing top 5 rows\n",
      "\n"
     ]
    }
   ],
   "source": [
    "# Join expression\n",
    "joinExpression = df2[\"Driver ID\"] == df[\"Driver ID\"]\n",
    "# Join type\n",
    "joinType = \"left\"\n",
    "# Join command\n",
    "left_join_df = df.join(df2, joinExpression, joinType)\n",
    "# Drop redundant columns\n",
    "#left_join_df = left_join_df.drop(df2[\"UTA Vehicle Number\"]).drop(df2[\"Market\"])\n",
    "left_join_df = left_join_df.drop('Driver ID')\n",
    "left_join_df.printSchema()\n",
    "left_join_df.show(5)\n",
    "# Explore data\n",
    "#left_join_df.select(\"Returned\").distinct().show()\n",
    "#left_join_df.select(count(\"Order ID\")).show()"
   ]
  },
  {
   "cell_type": "markdown",
   "metadata": {},
   "source": [
    "## Schema of the prepared data\n",
    "\n",
    "1. We have considered only those records which are reviewed by the accident review committee, where ARC Status = \"ARCR\".\n",
    "2. Removed columns such as Incident Categorical Description','Incident Description','UTA Vehicle Number','addressid (OpAnalytics) as they are not significant features for data mining tasks.  \n",
    "3. Removed records with NULL values.\n",
    "4. Renamed the columns as RFormula accept column names without spaces."
   ]
  },
  {
   "cell_type": "code",
   "execution_count": 131,
   "metadata": {},
   "outputs": [
    {
     "name": "stdout",
     "output_type": "stream",
     "text": [
      "root\n",
      " |-- Severity: string (nullable = true)\n",
      " |-- Score: integer (nullable = true)\n",
      " |-- Observations: string (nullable = true)\n",
      " |-- ARC Status: string (nullable = true)\n",
      " |-- ARC Decision: string (nullable = true)\n",
      " |-- Incident Weather Condition: string (nullable = true)\n",
      " |-- Incident Road Surface Condition: string (nullable = true)\n",
      " |-- Incident Light Condition: string (nullable = true)\n",
      " |-- UTA Vehicle Behavior: string (nullable = true)\n",
      " |-- Incident Location Type: string (nullable = true)\n",
      " |-- UTA Vehicle Number: string (nullable = true)\n",
      " |-- Vehicle One Behavior: string (nullable = true)\n",
      " |-- Vehicle Two Behavior: string (nullable = true)\n",
      " |-- Incident Time of Day (Seconds): integer (nullable = true)\n",
      "\n"
     ]
    }
   ],
   "source": [
    "df_reg = left_join_df.drop('StopId (Trapeze)','Vehicle','Recorded Date','Event ID','Flag','Coaching','Incident Address City','Incident Date','Incident Description','Incident Categorical Description','Vehicle Three Behavior','year','month','yearmonth','addressid (OpAnalytics)','StopId ','tripid','lineid','linedirectionid','buid','divisionid','modeid','serviceid','FromTime','toTime','vehicleid','Operator Gender','Operator Job Description','Equipment Class','Vehicle Length (ft)','Vehicle Width','fleetCode','Manufacturer','Make & Model','Model Year','Fuel Type')\n",
    "\n",
    "\n",
    "df_reg.printSchema()"
   ]
  },
  {
   "cell_type": "code",
   "execution_count": 66,
   "metadata": {
    "collapsed": true
   },
   "outputs": [],
   "source": [
    "df_reg = df_reg.where(col(\"ARC Status\")==\"ARCR\")\n",
    "df_reg = df_reg.where(col(\"ARC Decision\")!=\"UNKNOWN\")\n",
    "df_reg = df_reg.where(col(\"ARC Decision\")!=\"TIE\")"
   ]
  },
  {
   "cell_type": "code",
   "execution_count": 67,
   "metadata": {
    "collapsed": true
   },
   "outputs": [],
   "source": [
    "df_reg = df_reg.na.drop()"
   ]
  },
  {
   "cell_type": "code",
   "execution_count": 68,
   "metadata": {
    "collapsed": true
   },
   "outputs": [],
   "source": [
    "df_reg = df_reg.withColumnRenamed(\"ARC Status\",\"ARC_Status\")\n",
    "df_reg = df_reg.withColumnRenamed(\"ARC Decision\",\"ARC_Decision\")\n",
    "df_reg = df_reg.withColumnRenamed(\"Incident Weather Condition\",\"Incident_Weather_Condition\")\n",
    "df_reg = df_reg.withColumnRenamed(\"Incident Road Surface Condition\",\"Incident_Road_Surface_Condition\")\n",
    "df_reg = df_reg.withColumnRenamed(\"UTA Vehicle Behavior\",\"UTA_Vehicle_Behavior\")\n",
    "df_reg = df_reg.withColumnRenamed(\"Incident Location Type\",\"Incident_Location_Type\")\n",
    "df_reg = df_reg.withColumnRenamed(\"Incident Light Condition\",\"Incident_Light_Condition\")\n",
    "df_reg = df_reg.withColumnRenamed(\"Incident Time of Day (Seconds)\",\"Incident_Time\")\n",
    "df_reg = df_reg.withColumnRenamed(\"Vehicle One Behavior\",\"Vehicle_One_Behavior\")\n",
    "df_reg = df_reg.withColumnRenamed(\"Vehicle Two Behavior\",\"Vehicle_Two_Behavior\")"
   ]
  },
  {
   "cell_type": "code",
   "execution_count": 69,
   "metadata": {
    "collapsed": true
   },
   "outputs": [],
   "source": [
    "df_sub_rg = df_reg.select(\"Score\",\"Incident_Weather_Condition\",\"Incident_Road_Surface_Condition\",\"UTA_Vehicle_Behavior\",\"Incident_Location_Type\",\"Incident_Light_Condition\",\"Incident_Time\",\"Vehicle_One_Behavior\",\"Vehicle_Two_Behavior\",\"Observations\",\"Severity\",\"ARC_Decision\")"
   ]
  },
  {
   "cell_type": "code",
   "execution_count": 70,
   "metadata": {},
   "outputs": [
    {
     "name": "stdout",
     "output_type": "stream",
     "text": [
      "root\n",
      " |-- Score: integer (nullable = true)\n",
      " |-- Incident_Weather_Condition: string (nullable = true)\n",
      " |-- Incident_Road_Surface_Condition: string (nullable = true)\n",
      " |-- UTA_Vehicle_Behavior: string (nullable = true)\n",
      " |-- Incident_Location_Type: string (nullable = true)\n",
      " |-- Incident_Light_Condition: string (nullable = true)\n",
      " |-- Incident_Time: integer (nullable = true)\n",
      " |-- Vehicle_One_Behavior: string (nullable = true)\n",
      " |-- Vehicle_Two_Behavior: string (nullable = true)\n",
      " |-- Observations: string (nullable = true)\n",
      " |-- Severity: string (nullable = true)\n",
      " |-- ARC_Decision: string (nullable = true)\n",
      "\n"
     ]
    }
   ],
   "source": [
    "df_sub_rg.printSchema()"
   ]
  },
  {
   "cell_type": "code",
   "execution_count": 79,
   "metadata": {},
   "outputs": [
    {
     "name": "stdout",
     "output_type": "stream",
     "text": [
      "+-------+-----------------+\n",
      "|summary|            Score|\n",
      "+-------+-----------------+\n",
      "|  count|            67503|\n",
      "|   mean|159.3882938536065|\n",
      "| stddev|86.57667861387961|\n",
      "|    min|                0|\n",
      "|    max|              610|\n",
      "+-------+-----------------+\n",
      "\n"
     ]
    }
   ],
   "source": [
    "# Statistical summary of numeric data - 'Score'\n",
    "\n",
    "df_sub_rg.describe('Score').show()"
   ]
  },
  {
   "cell_type": "markdown",
   "metadata": {},
   "source": [
    "## Applied RFormula for preparing data"
   ]
  },
  {
   "cell_type": "code",
   "execution_count": 104,
   "metadata": {},
   "outputs": [
    {
     "name": "stdout",
     "output_type": "stream",
     "text": [
      "+-----+--------------------------+-------------------------------+--------------------+----------------------+------------------------+-------------+--------------------+--------------------+-----------------------------------+----------+------------+--------------------------------------------------------------------------------------------+-----+\n",
      "|Score|Incident_Weather_Condition|Incident_Road_Surface_Condition|UTA_Vehicle_Behavior|Incident_Location_Type|Incident_Light_Condition|Incident_Time|Vehicle_One_Behavior|Vehicle_Two_Behavior|Observations                       |Severity  |ARC_Decision|features                                                                                    |label|\n",
      "+-----+--------------------------+-------------------------------+--------------------+----------------------+------------------------+-------------+--------------------+--------------------+-----------------------------------+----------+------------+--------------------------------------------------------------------------------------------+-----+\n",
      "|49   |CLEAR                     |DRY                            |TURNING RIGHT       |TRAFFIC SIGNAL        |DAYLIGHT                |61800        |Turning Right       |Stopped             |Unsafe Following (3.25 - 4 seconds)|Category 1|CLS1        |(371,[0,13,24,31,43,48,52,90,143,363,367],[1.0,1.0,1.0,1.0,1.0,61800.0,1.0,1.0,1.0,1.0,1.0])|49.0 |\n",
      "|49   |CLEAR                     |DRY                            |STOPPING            |UNKNOWN               |DAYLIGHT                |48240        |Stopping            |N/A                 |Unsafe Following (3.25 - 4 seconds)|Category 1|CLS1        |(371,[0,13,22,30,43,48,51,88,143,363,367],[1.0,1.0,1.0,1.0,1.0,48240.0,1.0,1.0,1.0,1.0,1.0])|49.0 |\n",
      "|49   |HEAVY SNOW                |ICY                            |STOPPING            |UNKNOWN               |DUSK                    |60000        |Stopping            |Stopped             |Unsafe Following (3.25 - 4 seconds)|Category 1|UN          |(371,[4,15,22,30,45,48,51,90,143,363,366],[1.0,1.0,1.0,1.0,1.0,60000.0,1.0,1.0,1.0,1.0,1.0])|49.0 |\n",
      "|49   |CLEAR                     |DRY                            |STOPPING            |UNKNOWN               |DAYLIGHT                |61920        |Stopping            |N/A                 |Unsafe Following (3.25 - 4 seconds)|Category 1|UN          |(371,[0,13,22,30,43,48,51,88,143,363,366],[1.0,1.0,1.0,1.0,1.0,61920.0,1.0,1.0,1.0,1.0,1.0])|49.0 |\n",
      "|49   |CLEAR                     |DRY                            |STARTING            |TRAFFIC SIGNAL        |DAYLIGHT                |61200        |Starting            |N/A                 |Unsafe Following (3.25 - 4 seconds)|Category 1|UN          |(371,[0,13,25,31,43,48,54,88,143,363,366],[1.0,1.0,1.0,1.0,1.0,61200.0,1.0,1.0,1.0,1.0,1.0])|49.0 |\n",
      "+-----+--------------------------+-------------------------------+--------------------+----------------------+------------------------+-------------+--------------------+--------------------+-----------------------------------+----------+------------+--------------------------------------------------------------------------------------------+-----+\n",
      "only showing top 5 rows\n",
      "\n"
     ]
    }
   ],
   "source": [
    "formula = RFormula(\n",
    "    formula=\"Score ~ .\",\n",
    "    featuresCol=\"features\",\n",
    "    labelCol=\"label\")\n",
    "\n",
    "df_rf_fitted = formula.fit(df_sub_rg).transform(df_sub_rg)\n",
    "df_rf_fitted.show(5, False)\n"
   ]
  },
  {
   "cell_type": "code",
   "execution_count": 105,
   "metadata": {
    "collapsed": true
   },
   "outputs": [],
   "source": [
    "train, test = df_rf_fitted.select('label', 'features').randomSplit([0.7, 0.3], seed=2018)"
   ]
  },
  {
   "cell_type": "markdown",
   "metadata": {},
   "source": [
    "# Model Building and Evaluation"
   ]
  },
  {
   "cell_type": "markdown",
   "metadata": {},
   "source": [
    "## 1. Linear Regression"
   ]
  },
  {
   "cell_type": "code",
   "execution_count": 110,
   "metadata": {},
   "outputs": [
    {
     "name": "stdout",
     "output_type": "stream",
     "text": [
      "Coefficients: [0.025816687920095265,0.0033531143316688035,-0.09069326223357876,-0.03897653839200875,-0.13300673819202777,-0.11820850497190633,-0.49654360641854745,-0.3119203558098298,-0.6880893584284584,-0.08722067487319579,-0.07818324690730004,0.6427800668023337,-0.08511842711244626,-0.017962636118667587,0.07334653128070019,0.07768561528410531,0.08296797429970891,0.05730892630821374,-0.028020097234453045,3.227012329346484,-0.006119264684217613,-0.010629775516700097,-0.007733279269783499,0.0010210159403962295,-0.006677179809437616,-0.003631417364941118,0.060324661965237586,0.03129337931841181,0.06243698914796838,0.015088679220641601,0.005360725086836298,-0.011370956476643306,0.027399165470653956,-0.005606967247484565,-0.021353131558356914,-0.17704952450531844,-0.08015833025238084,-0.1019650657870589,-5.5423815949942826e-05,-0.007116842401046231,-0.034153188322056285,0.3125279046168335,0.024261853648115825,-0.0015141530946449564,-0.01780620062557604,0.021012541868065622,0.04810553325836943,-0.09531812440403986,-1.1441952823167038e-07,-0.006123975859046874,-0.010607631801126036,-0.030552719929245995,-0.00648165978813097,0.003519013617964636,-0.00862183586968419,-0.08291978822759118,0.03319477361609678,0.029292141769312142,0.015088679220641601,0.03670437763800846,0.4904470685542437,0.02393394660635907,-0.15671761776964968,0.27642997762437965,0.29955224325807506,-0.28351552828430737,-0.0088213426530237,-0.02854586086536775,0.01294835000832339,0.03086077799193535,-0.02652614818932522,-0.019509397008518007,-0.007989328895022477,-0.0004957886237289417,-0.06412573138937998,-0.025236744931363752,1.2543863408932738,0.011964089639282168,-0.0678283589281717,0.04191432502152848,-0.2278847094358773,-0.0909070661635455,-0.020270478963448486,-0.25630849428880925,0.035068426508715986,-0.11104999819082349,-0.07068910115809823,-0.02666485429079104,-0.025801648678721367,-0.026606587787604708,-0.01940527108419265,0.02327668950234555,0.03457288616384109,-0.03289375811686911,0.04388613746983955,-0.020019439739362207,-0.05593529459399341,-0.04477308537395735,0.24581266095158905,-0.6324046165093876,-0.10799127000764501,-0.062067295530638535,0.0004534205777994472,-0.09802831649952556,-0.011985967064423616,-0.027740547797873272,0.261676578060489,0.01294835000832339,-0.011536263003295306,-0.0745891085283852,-0.02652614818932522,-0.035511969842895806,0.014442143122448205,-0.03989829664620294,-0.03754280745972267,-0.13235380025797738,0.03964216185189564,-0.06412573138937998,-0.04442787119376123,-0.09583572027866887,0.20151039356435804,0.02008261618055169,-0.07854330301309234,0.0037170117390068706,0.014944329310640148,-0.05828829447175204,-0.017694887078221647,-0.029792845383342467,-59.131857872001866,46.992799967002604,46.99166957714398,-50.535829438460524,-50.532715459669284,26.910069993414265,-50.538059181956726,-70.99253300139429,-71.195227386312,-50.532636039864265,-76.39443177212324,-50.54277047022928,-70.77475486775234,-71.00172611936752,-71.20562117750768,-59.14109299952805,41.994667823368445,-51.52003478358075,-59.12109057334321,-32.52950967752886,105.79869316714101,47.00389805042736,-71.21388453480839,-70.3170541934505,-52.52970185204807,-70.06906258005776,-50.53884376577022,38.82990838258387,-50.530333077497716,-59.10548776777641,105.70574217090892,47.00390881845379,-59.14037474634525,38.806823473554225,-22.202799095849663,-32.52520963640434,-37.53170555950996,-71.18890344930429,-37.5045279576809,-32.519190737079015,-50.524333082479274,-37.540264881838574,-54.121948136746454,38.80855509140708,54.81103710089367,48.796194452859446,-50.01167620615754,74.80349389499598,22.985502195462395,74.80281821978419,-50.54771691147058,46.97653543960656,-71.1932279107219,-71.20898459255945,-71.2129980241356,105.81829523712685,-32.52175114790542,74.80059382740369,-50.53607746336866,-22.210391509344632,-50.051972321745296,154.78173686347785,-71.18809606808856,-2.5525144810453657,-40.17614519132206,-50.53370187803157,-71.21867082471313,-71.17445061459313,-71.22728648655429,-50.51866077509531,-22.20032974001473,38.76767694619625,47.01250103849458,-50.55971063078517,-71.20932465011767,154.7991012119434,-71.18432696906913,105.8066196900858,-50.52663115641385,105.78592938950833,68.81589914997386,38.804941354923315,68.7945187090139,46.89514567130894,74.78544094114672,38.78817355457667,48.79788480905307,154.7646552658605,43.782922397756224,79.79711062253975,-71.19710776340781,-71.1161506903805,-27.535019073192533,-32.52928604008257,26.923212384934125,-16.61830460801392,-22.192251611876056,46.96120186293561,74.78871185286813,105.62851703210326,-50.551275417814246,69.75218584469738,67.58756141066233,103.76865918357773,69.81880522041014,-59.13238298552666,154.82401886829058,118.78782257072808,69.68028450116846,263.81776991631756,-50.527560071178,118.86073115673582,-50.50656392556291,154.79369282454564,-2.481550454804012,69.81302424790184,26.986223750825783,69.7623258663792,105.78517214032867,53.73670491725247,-37.52668729982834,69.81334984693004,105.80738303009615,69.78403973484936,-50.62702756707208,105.81595208414348,-71.1529232565257,26.965705221017462,105.8792145794484,-51.56612596590508,-52.53064182351662,203.7478387332972,-50.58948370203945,118.76394737901813,-59.144677906743226,-22.216405054528384,-50.559366042395766,-71.19138414885208,118.7573120782849,123.78808742271532,154.7964702960735,46.95836573064033,-71.35007214693019,-37.55169183878722,104.79219704053114,42.02007182195626,-76.49539786424249,-37.5196426192638,46.99085702621829,-71.27959408660134,105.75371898804757,118.75110772326668,-71.26446570509842,-50.44558037718944,-50.013721615503826,-49.97515399149085,-71.17907418027359,46.96336338918209,-52.5416128561334,-71.18785642352282,0.0,106.24094843632484,154.82189205241795,123.810898087885,-50.52080318739961,154.7758956026016,105.73672747281742,69.79040081877447,-50.5494012466745,-71.18890637300386,203.79812213857875,118.78966750426238,69.76861976363335,-71.23854512482878,69.7889740321827,-22.213079837811023,-22.24844637300514,-52.56741076487982,123.73929649274423,-71.19398240195937,-50.539630320071915,68.86671668204599,-59.190106840286084,0.0,47.01383345146793,-50.52867577574942,105.72742134110143,-37.36798873831591,155.0471261168476,69.83365111283031,0.0,153.8299652498097,-49.950471283779954,118.82834390688245,103.83599976980679,74.73425232155306,155.56606780097698,154.79238395365016,54.79619532990043,154.81269930986426,69.73712201724562,41.99455320105753,123.74486110249016,0.0,-71.19883663649682,154.68561795441838,33.781434335709214,74.71201210776967,-70.73382444554365,-50.483050608665096,0.0,0.0,0.0,228.78567691940054,69.75491839229792,0.0,0.0,0.0,-27.5958668595057,-71.11506766365738,0.0,0.0,263.7577739667173,0.0,0.0,46.98388776373972,118.6820256010095,203.79293810868765,-50.594757017708325,-50.87845161841548,0.0,-59.1081732144495,74.77665191421934,0.0,97.06186213880099,57.18871006541313,225.57834618182864,295.2509231869822,0.013686764199448778,0.008917972766633869,0.0372736476876823,0.06081065062321509,0.044779569113091194]\n",
      "Intercept: 50.96555238563079\n"
     ]
    }
   ],
   "source": [
    "lr = LinearRegression(labelCol='label')\n",
    "lrModel = lr.fit(train)\n",
    "print(\"Coefficients:\", lrModel.coefficients)\n",
    "print(\"Intercept:\", lrModel.intercept)"
   ]
  },
  {
   "cell_type": "code",
   "execution_count": 111,
   "metadata": {},
   "outputs": [
    {
     "name": "stdout",
     "output_type": "stream",
     "text": [
      "LR: MAE: 0.2 RMSE: 3.22 R2: 1.0\n"
     ]
    }
   ],
   "source": [
    "e = lrModel.evaluate(test)\n",
    "import numpy as np\n",
    "\n",
    "print(\"LR:\",\"MAE:\",np.round(e.meanAbsoluteError,2),\"RMSE:\",np.round(e.rootMeanSquaredError,2),\"R2:\",np.round(e.r2,2))"
   ]
  },
  {
   "cell_type": "code",
   "execution_count": 112,
   "metadata": {
    "collapsed": true
   },
   "outputs": [],
   "source": [
    "import numpy as np\n",
    "def RegressionModelsEvaluator(name, predictions):    \n",
    "    predictionAndLabels =predictions.select(\"prediction\", \"label\").rdd\n",
    "    metrics = RegressionMetrics(predictionAndLabels)\n",
    "    print(name,\"MAE:\", np.round(metrics.meanAbsoluteError,2),\"RMSE:\", np.round(metrics.rootMeanSquaredError,2),\"R2:\", np.round(metrics.r2,2))"
   ]
  },
  {
   "cell_type": "markdown",
   "metadata": {},
   "source": [
    "## 2. Generalized Linear Regression"
   ]
  },
  {
   "cell_type": "code",
   "execution_count": 115,
   "metadata": {},
   "outputs": [
    {
     "name": "stdout",
     "output_type": "stream",
     "text": [
      "\n",
      "GLR: MAE: 0.2 RMSE: 3.22 R2: 1.0\n"
     ]
    }
   ],
   "source": [
    "glr = GeneralizedLinearRegression(labelCol='label')\n",
    "glrModel = glr.fit(train)\n",
    "\n",
    "#print(\"Coefficients:\",glrModel.coefficients)\n",
    "#print(\"Intercept:\",glrModel.intercept)\n",
    "#print(\"p-values\", glrModel.summary.pValues)\n",
    "print(\"\")\n",
    "\n",
    "predictions = glrModel.transform(test)\n",
    "RegressionModelsEvaluator(\"GLR:\",predictions)"
   ]
  },
  {
   "cell_type": "markdown",
   "metadata": {},
   "source": [
    "## 3. Decision Tree Regression"
   ]
  },
  {
   "cell_type": "code",
   "execution_count": 118,
   "metadata": {},
   "outputs": [
    {
     "name": "stdout",
     "output_type": "stream",
     "text": [
      "DT with Depth 4: MAE: 4.67 RMSE: 17.23 R2: 0.96\n",
      "\n",
      "DT: MAE: 3.35 RMSE: 16.4 R2: 0.96\n"
     ]
    }
   ],
   "source": [
    "dtr = DecisionTreeRegressor(labelCol='label', maxDepth=4)\n",
    "dtrModel = dtr.fit(train)\n",
    "\n",
    "predictions = dtrModel.transform(test)\n",
    "RegressionModelsEvaluator(\"DT with Depth 4:\",predictions)\n",
    "\n",
    "print(\"\")\n",
    "\n",
    "\n",
    "dtr2 = DecisionTreeRegressor(labelCol='label')\n",
    "predictions = dtr2.fit(train).transform(test)\n",
    "RegressionModelsEvaluator(\"DT:\",predictions)\n"
   ]
  },
  {
   "cell_type": "markdown",
   "metadata": {},
   "source": [
    "## 4. Random Forest Regression"
   ]
  },
  {
   "cell_type": "code",
   "execution_count": 120,
   "metadata": {},
   "outputs": [
    {
     "name": "stdout",
     "output_type": "stream",
     "text": [
      "RF with numTress:3 Depth:3 : MAE: 8.58 RMSE: 25.96 R2: 0.91\n",
      "\n",
      "RF2: MAE: 4.83 RMSE: 18.58 R2: 0.95\n"
     ]
    }
   ],
   "source": [
    "rfr = RandomForestRegressor(labelCol='label', numTrees=3, maxDepth=3)\n",
    "rfrModel = rfr.fit(train)\n",
    "\n",
    "predictions = rfrModel.transform(test)\n",
    "RegressionModelsEvaluator(\"RF with numTress:3 Depth:3 :\",predictions)\n",
    "\n",
    "print(\"\")\n",
    "\n",
    "\n",
    "rfr2 = RandomForestRegressor(labelCol='label')\n",
    "predictions = rfr2.fit(train).transform(test)\n",
    "RegressionModelsEvaluator(\"RF2:\",predictions)"
   ]
  },
  {
   "cell_type": "markdown",
   "metadata": {},
   "source": [
    "## 5. Gradient - Boosted Tree Regression"
   ]
  },
  {
   "cell_type": "code",
   "execution_count": 121,
   "metadata": {},
   "outputs": [
    {
     "name": "stdout",
     "output_type": "stream",
     "text": [
      "GB with Depth:3 MaxItr:3 : MAE: 5.44 RMSE: 19.06 R2: 0.95\n",
      "\n",
      "GB2: MAE: 2.31 RMSE: 11.61 R2: 0.98\n"
     ]
    }
   ],
   "source": [
    "gbtr = GBTRegressor(labelCol='label', maxDepth=3, maxIter=3)\n",
    "gbtrModel = gbtr.fit(train)\n",
    "\n",
    "\n",
    "predictions = gbtrModel.transform(test)\n",
    "RegressionModelsEvaluator(\"GB with Depth:3 MaxItr:3 :\",predictions)\n",
    "\n",
    "print(\"\")\n",
    "\n",
    "\n",
    "gbtr2 = GBTRegressor(labelCol='label')\n",
    "predictions = gbtr2.fit(train).transform(test)\n",
    "RegressionModelsEvaluator(\"GB2:\",predictions)"
   ]
  },
  {
   "cell_type": "markdown",
   "metadata": {},
   "source": [
    "## Parameter Grid tuning for trees : GBTR, RFR and DTR"
   ]
  },
  {
   "cell_type": "code",
   "execution_count": 123,
   "metadata": {},
   "outputs": [
    {
     "name": "stdout",
     "output_type": "stream",
     "text": [
      "gbtrTunedModel: MAE: 2.31 RMSE: 11.61 R2: 0.98\n"
     ]
    }
   ],
   "source": [
    "# ParamGrid_gbtr\n",
    "paramGrid_gbtr = (ParamGridBuilder()\n",
    "             .addGrid(gbtr.maxDepth, [2,4,6,8])\n",
    "             .addGrid(gbtr.maxIter, [2,4,6,8])\n",
    "             .build())\n",
    "\n",
    "evaluator = RegressionEvaluator(labelCol='label', metricName='rmse')\n",
    "gbtrTuned = TrainValidationSplit(estimator=gbtr2, estimatorParamMaps=paramGrid_gbtr, evaluator=evaluator, trainRatio=0.6)\n",
    "gbtrTunedModel = gbtrTuned.fit(train)\n",
    "\n",
    "split_predictions = gbtrTunedModel.transform(test)\n",
    "RegressionModelsEvaluator(\"gbtrTunedModel:\",split_predictions)\n"
   ]
  },
  {
   "cell_type": "code",
   "execution_count": 124,
   "metadata": {},
   "outputs": [
    {
     "name": "stdout",
     "output_type": "stream",
     "text": [
      "rfrTunedModel: MAE: 4.83 RMSE: 18.58 R2: 0.95\n"
     ]
    }
   ],
   "source": [
    "# ParamGrid_rfr\n",
    "paramGrid_rfr = (ParamGridBuilder()\n",
    "             .addGrid(rfr.maxDepth, [2,4,6,8,10])\n",
    "             .addGrid(rfr.numTrees, [50,100,150])\n",
    "             .build())\n",
    "\n",
    "evaluator = RegressionEvaluator(labelCol='label', metricName='rmse')\n",
    "rfrTuned = TrainValidationSplit(estimator=rfr2, estimatorParamMaps=paramGrid_rfr, evaluator=evaluator, trainRatio=0.6)\n",
    "rfrTunedModel = rfrTuned.fit(train)\n",
    "\n",
    "split_predictions = rfrTunedModel.transform(test)\n",
    "RegressionModelsEvaluator(\"rfrTunedModel:\",split_predictions)"
   ]
  },
  {
   "cell_type": "code",
   "execution_count": 126,
   "metadata": {},
   "outputs": [
    {
     "name": "stdout",
     "output_type": "stream",
     "text": [
      "dtrTunedModel: MAE: 3.35 RMSE: 16.4 R2: 0.96\n"
     ]
    }
   ],
   "source": [
    "# ParamGrid_dtr\n",
    "paramGrid_dtr = (ParamGridBuilder()\n",
    "             .addGrid(dtr.maxDepth, [2,3,4,5])\n",
    "             .build())\n",
    "\n",
    "\n",
    "evaluator = RegressionEvaluator(labelCol='label', metricName='rmse')\n",
    "dtrTuned = TrainValidationSplit(estimator=dtr2, estimatorParamMaps=paramGrid_dtr, evaluator=evaluator, trainRatio=0.6)\n",
    "dtrTunedModel = dtrTuned.fit(train)\n",
    "\n",
    "split_predictions = dtrTunedModel.transform(test)\n",
    "RegressionModelsEvaluator(\"dtrTunedModel:\",split_predictions)"
   ]
  },
  {
   "cell_type": "markdown",
   "metadata": {},
   "source": [
    "On comparing the evaluation results we found that Linear Regression and Generalized Linear Regression are performing better than the other regression models."
   ]
  }
 ],
 "metadata": {
  "kernelspec": {
   "display_name": "Python 3",
   "language": "python",
   "name": "python3"
  },
  "language_info": {
   "codemirror_mode": {
    "name": "ipython",
    "version": 3
   },
   "file_extension": ".py",
   "mimetype": "text/x-python",
   "name": "python",
   "nbconvert_exporter": "python",
   "pygments_lexer": "ipython3",
   "version": "3.6.3"
  }
 },
 "nbformat": 4,
 "nbformat_minor": 2
}
